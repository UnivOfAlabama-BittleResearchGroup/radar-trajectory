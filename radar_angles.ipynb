{
 "cells": [
  {
   "cell_type": "code",
   "execution_count": null,
   "metadata": {},
   "outputs": [],
   "source": [
    "import polars as pl\n",
    "import pandas as pd\n",
    "import plotly.graph_objects as go\n",
    "import utm"
   ]
  },
  {
   "cell_type": "markdown",
   "metadata": {},
   "source": [
    "## Read in the Data"
   ]
  },
  {
   "cell_type": "code",
   "execution_count": null,
   "metadata": {},
   "outputs": [],
   "source": [
    "df = pl.scan_parquet(\n",
    " \"/Users/max/Library/CloudStorage/Box-Box/Radar-Data/1677797903256.parquet\"   \n",
    ")"
   ]
  },
  {
   "cell_type": "code",
   "execution_count": null,
   "metadata": {},
   "outputs": [],
   "source": [
    "df = df.collect()"
   ]
  },
  {
   "cell_type": "markdown",
   "metadata": {},
   "source": [
    "### Geolocate the Radar Data"
   ]
  },
  {
   "cell_type": "code",
   "execution_count": null,
   "metadata": {},
   "outputs": [],
   "source": [
    "import json\n",
    "with open(\"radar_origins.json\") as f:\n",
    "    radar_origins = json.load(f)\n"
   ]
  },
  {
   "cell_type": "code",
   "execution_count": null,
   "metadata": {},
   "outputs": [],
   "source": [
    "radar_utms = {\n",
    "    ip : utm.from_latlon(*radar_origins[ip]['origin'][::-1]) for ip in radar_origins\n",
    "}"
   ]
  },
  {
   "cell_type": "code",
   "execution_count": null,
   "metadata": {},
   "outputs": [],
   "source": [
    "# assert that all radar utm zones are the same\n",
    "assert len({(x[2], x[3]) for x in radar_utms.values()}) == 1\n",
    "\n",
    "radar_utm_zone = list(radar_utms.values())[0][2:4]"
   ]
  },
  {
   "cell_type": "code",
   "execution_count": null,
   "metadata": {},
   "outputs": [],
   "source": [
    "import utm"
   ]
  },
  {
   "cell_type": "code",
   "execution_count": null,
   "metadata": {},
   "outputs": [],
   "source": [
    "df = df.with_columns([\n",
    "    (pl.col('f32_positionX_m') + pl.col('ip').apply(lambda ip: radar_utms[ip][0])).alias('x'),\n",
    "    (pl.col('f32_positionY_m') + pl.col('ip').apply(lambda ip: radar_utms[ip][1])).alias('y'),\n",
    "    (pl.col('ui32_objectID').cast(str) + \"_\" + pl.col('ip')).alias('object_id'),\n",
    "])"
   ]
  },
  {
   "cell_type": "code",
   "execution_count": null,
   "metadata": {},
   "outputs": [],
   "source": [
    "df.shape"
   ]
  },
  {
   "cell_type": "code",
   "execution_count": null,
   "metadata": {},
   "outputs": [],
   "source": [
    "df.sort('epoch_time').groupby_dynamic(\n",
    "    index_column='epoch_time',\n",
    "    every='1s',\n",
    "    by=['object_id'],\n",
    ").agg([\n",
    "    pl.col('x').mean().alias('x'),\n",
    "    pl.col('y').mean().alias('y'),\n",
    "    pl.col('f32_velocityInDir_mps').mean(),\n",
    "    pl.col('ip').first()\n",
    "]\n",
    ")"
   ]
  },
  {
   "cell_type": "code",
   "execution_count": null,
   "metadata": {},
   "outputs": [],
   "source": [
    "# create a unique index for the polars dataframe\n",
    "pd_df = df.to_pandas()"
   ]
  },
  {
   "cell_type": "code",
   "execution_count": null,
   "metadata": {},
   "outputs": [],
   "source": [
    "import plotly.express as px\n",
    "\n",
    "# create a color map for all the radar ips\n",
    "radar_ips = df['ip'].unique().to_list()\n",
    "radar_colors = px.colors.qualitative.D3\n",
    "radar_color_map = {ip : radar_colors[i % len(radar_colors)] for i, ip in enumerate(radar_ips)}"
   ]
  },
  {
   "cell_type": "code",
   "execution_count": null,
   "metadata": {},
   "outputs": [],
   "source": [
    "\n",
    "pandas_df = df.to_pandas()\n",
    "\n",
    "pandas_df['lat'], pandas_df['lon'] = utm.to_latlon(\n",
    "        pandas_df['x'], pandas_df['y'], *radar_utm_zone\n",
    "    )"
   ]
  },
  {
   "cell_type": "code",
   "execution_count": null,
   "metadata": {},
   "outputs": [],
   "source": [
    "pandas_df.sample(10_000).to_csv('radar_data.csv', index=False)"
   ]
  },
  {
   "cell_type": "code",
   "execution_count": null,
   "metadata": {},
   "outputs": [],
   "source": [
    "from plotly.subplots import make_subplots\n",
    "import plotly.graph_objects as go\n",
    "import numpy as np\n",
    "\n",
    "mapbox_key = \"pk.eyJ1IjoibWF4LXNjaHJhZGVyIiwiYSI6ImNrOHQxZ2s3bDAwdXQzbG81NjZpZm96bDEifQ.etUi4OK4ozzaP_P8foZn_A\"\n",
    "fig = go.Figure()\n",
    "\n",
    "fig.update_layout(template=\"ggplot2\", height=600, width=1200, font_size=18)\n",
    "\n",
    "\n",
    "pandas_df = df.to_pandas()\n",
    "\n",
    "pandas_df['lat'], pandas_df['lon'] = utm.to_latlon(\n",
    "        pandas_df['x'], pandas_df['y'], *radar_utm_zone\n",
    "    )\n",
    "\n",
    "for ip, r in pandas_df.groupby(\"ip\"):\n",
    "\n",
    "\n",
    "    r['lat'], r['lon'] = utm.to_latlon(\n",
    "        r['x'], r['y'], *radar_utm_zone\n",
    "    )\n",
    "\n",
    "    _s = r.sample(10000)\n",
    "    fig.add_trace(\n",
    "        go.Scattermapbox(\n",
    "            lon=_s[\"lon\"],\n",
    "            lat=_s[\"lat\"],\n",
    "            mode=\"markers\",\n",
    "            opacity=1,\n",
    "            line_width=4,\n",
    "            name=ip,\n",
    "            marker=dict(\n",
    "                size=4,\n",
    "                color=radar_color_map[ip],\n",
    "                opacity=0.5,\n",
    "            ),\n",
    "            visible=True,\n",
    "        )\n",
    "    )\n",
    "\n",
    "fig.update_layout(\n",
    "    margin=go.layout.Margin(\n",
    "        l=50,  # left margin\n",
    "        r=50,  # right margin\n",
    "        b=50,  # bottom margin\n",
    "        t=50,  # top margin\n",
    "    ),\n",
    "    mapbox=dict(\n",
    "        accesstoken=mapbox_key,\n",
    "        bearing=0,\n",
    "        # style as mapbox satellite\n",
    "        style=\"satellite-streets\",\n",
    "        center=go.layout.mapbox.Center(lat=_s[\"lat\"].mean(), lon=_s[\"lon\"].mean()),\n",
    "        pitch=0,\n",
    "        zoom=14.1,\n",
    "    ),\n",
    ")\n",
    "\n",
    "\n",
    "fig.show()\n"
   ]
  },
  {
   "cell_type": "code",
   "execution_count": null,
   "metadata": {},
   "outputs": [],
   "source": [
    "df = df.with_columns([\n",
    "    (pl.col('ui32_objectID').cast(str) + \"_\" + pl.col('ip')).alias('object_id'),\n",
    "])"
   ]
  },
  {
   "cell_type": "code",
   "execution_count": null,
   "metadata": {},
   "outputs": [],
   "source": [
    "df.groupby('object_id').agg(\n",
    "    pl.col('epoch_time').diff().mean().alias('mean_dt'),\n",
    ").to_pandas().mean_dt.dt.total_seconds().hist(bins=100)\n"
   ]
  },
  {
   "cell_type": "code",
   "execution_count": null,
   "metadata": {},
   "outputs": [],
   "source": [
    "df.filter(pl.col('object_id').is_in([ids]))"
   ]
  },
  {
   "cell_type": "code",
   "execution_count": null,
   "metadata": {},
   "outputs": [],
   "source": [
    "tmp = df.filter(pl.col('object_id').is_in([ids])).to_pandas()"
   ]
  },
  {
   "cell_type": "code",
   "execution_count": null,
   "metadata": {},
   "outputs": [],
   "source": [
    "tmp.plot.line(x='epoch_time', y='f32_velocityInDir_mps')"
   ]
  },
  {
   "cell_type": "code",
   "execution_count": null,
   "metadata": {},
   "outputs": [],
   "source": [
    "# # plot a couple individual objects\n",
    "# ids = df.sample(1).select('object_id').to_numpy().flatten()[0]\n",
    "\n",
    "# # set the plot method to plotly\n",
    "# pd.set_option(\"plotting.backend\", \"plotly\")\n",
    "\n",
    "df.filter(pl.col('object_id').is_in([ids])).to_pandas().sort_values('epoch_time').plot.line('epoch_time', 'f32_velocityInDir_mps',)"
   ]
  },
  {
   "cell_type": "markdown",
   "metadata": {},
   "source": [
    "### Plot Distance to TL1 Stop Bar"
   ]
  },
  {
   "cell_type": "code",
   "execution_count": null,
   "metadata": {},
   "outputs": [],
   "source": [
    "TL1_POS = (33.233039472986604, -87.62266063800959)\n",
    "TL1_POS_UTM = utm.from_latlon(*TL1_POS, force_zone_number=radar_utm_zone[0] ,force_zone_letter=radar_utm_zone[1])[:2]\n"
   ]
  },
  {
   "cell_type": "code",
   "execution_count": null,
   "metadata": {},
   "outputs": [],
   "source": [
    "df = df.with_columns([\n",
    "    (((pl.col('x') - TL1_POS_UTM[0]) ** 2 + (pl.col('y') - TL1_POS_UTM[1]) ** 2) ** 0.5).alias('distance_from_tl1'),\n",
    "])"
   ]
  },
  {
   "cell_type": "code",
   "execution_count": null,
   "metadata": {},
   "outputs": [],
   "source": [
    "df = df.sort('epoch_time')\n",
    "\n",
    "# only consider objects that move closer to TL1 during their time in the network\n",
    "keep_ids = df.groupby('object_id').agg([\n",
    "    pl.col('distance_from_tl1').first().alias('start_distance'),\n",
    "    pl.col('distance_from_tl1').last().alias('end_distance'),\n",
    "]\n",
    ").filter(\n",
    "    pl.col('start_distance') > pl.col('end_distance')\n",
    ").select('object_id').to_pandas().object_id.values"
   ]
  },
  {
   "cell_type": "code",
   "execution_count": null,
   "metadata": {},
   "outputs": [],
   "source": [
    "wb_df = df.filter(pl.col('object_id').is_in(keep_ids.tolist()))\n",
    "wb_df = wb_df.to_pandas()\n",
    "# wb_df.epoch_time.min(), wb_df.epoch_time.max()\n",
    "# only look at the first two minutes of data\n",
    "wb_df = wb_df[wb_df.epoch_time < wb_df.epoch_time.max() - pd.Timedelta('60 seconds')]"
   ]
  },
  {
   "cell_type": "code",
   "execution_count": null,
   "metadata": {},
   "outputs": [],
   "source": [
    "fig = go.Figure()\n",
    "\n",
    "keep_ips = ['10.160.7.136', '10.160.7.137', '10.160.7.141', '10.160.7.142', '10.160.7.146', '10.160.7.147']\n",
    "# keep_ips = '10.160.7.142', '10.160.7.146'\n",
    "\n",
    "plotted_ips = set()\n",
    "for veh in wb_df.object_id.unique():\n",
    "\n",
    "    _df = wb_df[wb_df.object_id == veh]\n",
    "\n",
    "    if _df.ip.iloc[0] not in keep_ips:\n",
    "        continue\n",
    "\n",
    "    if _df.ip.iloc[0] in plotted_ips:\n",
    "        show_legend = False\n",
    "    else:\n",
    "        show_legend = True\n",
    "        plotted_ips.add(_df.ip.iloc[0])\n",
    "\n",
    "    fig.add_trace(\n",
    "        go.Scatter(\n",
    "            x=_df.epoch_time,\n",
    "            y=_df.distance_from_tl1,\n",
    "            mode=\"lines\",\n",
    "            opacity=1,\n",
    "            line_color=radar_color_map[_df.ip.iloc[0]],\n",
    "            name=_df.ip.iloc[0],\n",
    "            showlegend=show_legend,\n",
    "        )\n",
    "    )\n",
    "\n",
    "# update the height and width of the figure\n",
    "fig.update_layout(\n",
    "    height=800,\n",
    "    width=1000,\n",
    "    font_size=18,\n",
    ")\n",
    "\n",
    "\n",
    "fig.show()"
   ]
  },
  {
   "attachments": {},
   "cell_type": "markdown",
   "metadata": {},
   "source": [
    "### Investigate the Radar Data"
   ]
  },
  {
   "cell_type": "code",
   "execution_count": null,
   "metadata": {},
   "outputs": [],
   "source": [
    "df.filter(pl.col('object_id').is_in(['46671_10.160.7.137']))"
   ]
  },
  {
   "cell_type": "code",
   "execution_count": null,
   "metadata": {},
   "outputs": [],
   "source": [
    "veh_df = df.filter(pl.col('object_id').is_in(['46671_10.160.7.137'])).to_pandas()\n",
    "\n",
    "fig = veh_df.plot.line('epoch_time', 'f32_velocityInDir_mps', )\n",
    "\n",
    "# differentiate the position to get velocity\n",
    "veh_df['distance'] = (veh_df['f32_positionX_m'].diff() ** 2 + veh_df['f32_positionY_m'].diff() ** 2) ** 0.5\n",
    "veh_df['velocity'] = veh_df['distance'] / veh_df['epoch_time'].diff().dt.total_seconds()\n",
    "\n",
    "fig.add_trace(\n",
    "    go.Scatter(\n",
    "        x=veh_df.epoch_time,\n",
    "        y=veh_df.velocity,\n",
    "        mode=\"lines\",\n",
    "    )\n",
    ")\n",
    "\n",
    "fig.show()"
   ]
  },
  {
   "attachments": {},
   "cell_type": "markdown",
   "metadata": {},
   "source": [
    "### Plot Via Position"
   ]
  },
  {
   "cell_type": "code",
   "execution_count": null,
   "metadata": {},
   "outputs": [],
   "source": [
    "# keep_ips = ['10.160.7.136', '10.160.7.137', '10.160.7.141', '10.160.7.142', '10.160.7.146']\n",
    "keep_ips = '10.160.7.142', '10.160.7.146'\n",
    "\n",
    "mapbox_key = \"pk.eyJ1IjoibWF4LXNjaHJhZGVyIiwiYSI6ImNrOHQxZ2s3bDAwdXQzbG81NjZpZm96bDEifQ.etUi4OK4ozzaP_P8foZn_A\"\n",
    "fig = go.Figure()\n",
    "fig.update_layout(template=\"ggplot2\", height=600, width=1200, font_size=18)\n",
    "\n",
    "plotted_ips = set()\n",
    "\n",
    "times = []\n",
    "unique_times = set()\n",
    "plotted_ips = set()\n",
    "\n",
    "for veh in wb_df.object_id.unique():\n",
    "\n",
    "    _df = wb_df[wb_df.object_id == veh].copy()\n",
    "\n",
    "    _df['lat'], _df['lon'] = utm.to_latlon(\n",
    "        _df['x'], _df['y'], *radar_utm_zone\n",
    "    )\n",
    "\n",
    "    ip = _df.ip.iloc[0]\n",
    "\n",
    "    if ip not in keep_ips:\n",
    "        continue\n",
    "    # resample the data to 1 second intervals\n",
    "    _df = _df.set_index('epoch_time').resample('5s').mean(numeric_only=True).reset_index()\n",
    "    \n",
    "\n",
    "    for time in _df.epoch_time.unique():\n",
    "        \n",
    "        times.append(time)\n",
    "        unique_times.add(time)\n",
    "\n",
    "        # filter to the current time\n",
    "        _df = _df[_df.epoch_time <= time]\n",
    "\n",
    "        if ip in plotted_ips:\n",
    "            show_legend = False\n",
    "        else:\n",
    "            show_legend = True\n",
    "            plotted_ips.add(ip)\n",
    "                \n",
    "\n",
    "        fig.add_trace(\n",
    "            go.Scattermapbox(\n",
    "                lon=_df['lon'],\n",
    "                lat=_df['lat'],\n",
    "                mode=\"markers\",\n",
    "                opacity=1,\n",
    "                marker_color=radar_color_map[ip],\n",
    "                name=ip,\n",
    "                showlegend=show_legend,\n",
    "                visible=show_legend,\n",
    "            )\n",
    "        )\n",
    "\n",
    "\n",
    "# # create a plotly slider to change the angle\n",
    "# steps = []\n",
    "# for i, time_ in enumerate(unique_times):\n",
    "#     step = dict(\n",
    "#         method=\"update\",\n",
    "#         args=[{\"visible\": [False] * len(fig.data)},\n",
    "#               {\"title\": \"Slider switched to step: \" + str(time_)}],  # layout attribute\n",
    "#     )\n",
    "#     step[\"args\"][0][\"visible\"] = [True if t < time_ else False for t in times]\n",
    "#     steps.append(step)\n",
    "\n",
    "# sliders = [\n",
    "#     dict(active=5, currentvalue={\"prefix\": \"\"}, pad={\"t\": 50}, steps=steps)\n",
    "# ]\n",
    "\n",
    "# fig.update_layout(sliders=sliders)\n",
    "fig.update_layout(\n",
    "    margin=go.layout.Margin(\n",
    "        l=50,  # left margin\n",
    "        r=50,  # right margin\n",
    "        b=50,  # bottom margin\n",
    "        t=50,  # top margin\n",
    "    ),\n",
    "    mapbox=dict(\n",
    "        accesstoken=mapbox_key,\n",
    "        bearing=0,\n",
    "        # style as mapbox satellite\n",
    "        style=\"satellite-streets\",\n",
    "        center=go.layout.mapbox.Center(lat=_s[\"lat\"].mean(), lon=_s[\"lon\"].mean()),\n",
    "        pitch=0,\n",
    "        zoom=14.1,\n",
    "    ),\n",
    ")\n",
    "fig.show()"
   ]
  }
 ],
 "metadata": {
  "kernelspec": {
   "display_name": "sumo-uc-2023",
   "language": "python",
   "name": "python3"
  },
  "language_info": {
   "codemirror_mode": {
    "name": "ipython",
    "version": 3
   },
   "file_extension": ".py",
   "mimetype": "text/x-python",
   "name": "python",
   "nbconvert_exporter": "python",
   "pygments_lexer": "ipython3",
   "version": "3.9.10"
  },
  "vscode": {
   "interpreter": {
    "hash": "0fe24db46f0f9153940905989778a33a1b95b2b91b6370b048772e47434f409d"
   }
  }
 },
 "nbformat": 4,
 "nbformat_minor": 2
}
